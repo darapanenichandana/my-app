{
  "nbformat": 4,
  "nbformat_minor": 0,
  "metadata": {
    "colab": {
      "provenance": [],
      "authorship_tag": "ABX9TyPRznXVYZtwVeweErcsPO1A",
      "include_colab_link": true
    },
    "kernelspec": {
      "name": "python3",
      "display_name": "Python 3"
    },
    "language_info": {
      "name": "python"
    }
  },
  "cells": [
    {
      "cell_type": "markdown",
      "metadata": {
        "id": "view-in-github",
        "colab_type": "text"
      },
      "source": [
        "<a href=\"https://colab.research.google.com/github/darapanenichandana/my-app/blob/main/Untitled17.ipynb\" target=\"_parent\"><img src=\"https://colab.research.google.com/assets/colab-badge.svg\" alt=\"Open In Colab\"/></a>"
      ]
    },
    {
      "cell_type": "code",
      "source": [
        "import requests\n",
        "from bs4 import BeautifulSoup\n",
        "\n",
        "def search(query):\n",
        "    headers = {\n",
        "        \"user-Agent\": \"Mozilla/5.0 (Windows NT 10.0; Win64; x64) AppleWebKit/537.36 (KHTML, like Gecko) Chrome/132.0.0.0 Safari/537.36\"\n",
        "    }\n",
        "\n",
        "    search_url = f\"https://www.bing.com/search?q={query.replace(' ', '+')}\"\n",
        "\n",
        "    response = requests.get(search_url, headers=headers)\n",
        "\n",
        "    if response.status_code != 200:\n",
        "        print(\"Error fetching search result\")\n",
        "        return\n",
        "\n",
        "    soup = BeautifulSoup(response.text, \"html.parser\")\n",
        "\n",
        "    results = soup.find_all(\"li\", class_=\"b_algo\", limit=5)\n",
        "\n",
        "    if not results:\n",
        "        print(\"No result found\")\n",
        "        return\n",
        "\n",
        "    for i, result in enumerate(results, start=1):\n",
        "        title = result.find(\"h2\").text if result.find(\"h2\") else \"No title\"\n",
        "        link = result.find(\"a\")[\"href\"] if result.find(\"a\") else \"No link\"\n",
        "        description = result.find(\"p\").text if result.find(\"p\") else \"No description\"\n",
        "\n",
        "        print(f\"{i}. Title: {title}\")\n",
        "        print(f\"    Link: {link}\")\n",
        "        print(f\"    Description: {description}\\n\")\n",
        "\n",
        "query = \"Anaconda\"\n",
        "search(query)"
      ],
      "metadata": {
        "colab": {
          "base_uri": "https://localhost:8080/"
        },
        "id": "u7i5T_qD_sPM",
        "outputId": "525b71e2-91a0-4e46-c03b-a31c260d4cfe"
      },
      "execution_count": 32,
      "outputs": [
        {
          "output_type": "stream",
          "name": "stdout",
          "text": [
            "1. Title: Anaconda | Built to Advance Open Source AI\n",
            "    Link: https://www.anaconda.com/\n",
            "    Description: Anaconda simplifies, safeguards, and accelerates open-source AI with a trusted platform, enabling secure scaling, real-time insights, and community collaboration.\n",
            "\n",
            "2. Title: Installing Anaconda Distribution — Anaconda documentation\n",
            "    Link: https://docs.anaconda.com/anaconda/install/\n",
            "    Description: Using Anaconda in a commercial setting? This page provides instructions for installing Anaconda Distribution on Windows, macOS, and Linux. If you prefer an installation without the extensive …\n",
            "\n",
            "3. Title: Navigator | Anaconda\n",
            "    Link: https://www.anaconda.com/products/navigator\n",
            "    Description: Anaconda Navigator is a desktop GUI included in Anaconda Distribution. Launch applications and manage conda packages, environments, and channels without using command line interface (CLI) commands. Search for packages on …\n",
            "\n",
            "4. Title: Anaconda - Wikipedia\n",
            "    Link: https://en.wikipedia.org/wiki/Anaconda\n",
            "    Description: Anacondas or water boas are a group of large boas of the genus Eunectes. They are a semiaquatic group of snakes found in tropical South America. Three to five extant and one extinct species are currently recognized, including one of the …\n",
            "\n",
            "5. Title: Anaconda.org\n",
            "    Link: https://anaconda.org/\n",
            "    Description: Anaconda.org allows anyone to distribute their conda and standard Python packages to the world. We support package builders and their users: Individuals and organizations can manage and …\n",
            "\n"
          ]
        }
      ]
    }
  ]
}