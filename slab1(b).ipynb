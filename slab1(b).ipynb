{
  "nbformat": 4,
  "nbformat_minor": 0,
  "metadata": {
    "colab": {
      "provenance": [],
      "authorship_tag": "ABX9TyON5Q7SqvwqeRlf1NMY3ExX",
      "include_colab_link": true
    },
    "kernelspec": {
      "name": "python3",
      "display_name": "Python 3"
    },
    "language_info": {
      "name": "python"
    }
  },
  "cells": [
    {
      "cell_type": "markdown",
      "metadata": {
        "id": "view-in-github",
        "colab_type": "text"
      },
      "source": [
        "<a href=\"https://colab.research.google.com/github/darapanenichandana/my-app/blob/main/slab1(b).ipynb\" target=\"_parent\"><img src=\"https://colab.research.google.com/assets/colab-badge.svg\" alt=\"Open In Colab\"/></a>"
      ]
    },
    {
      "cell_type": "code",
      "execution_count": 31,
      "metadata": {
        "colab": {
          "base_uri": "https://localhost:8080/"
        },
        "id": "NwgGJtFN51sJ",
        "outputId": "71f62bfd-19fb-47c7-bc62-8b5569573c60"
      },
      "outputs": [
        {
          "output_type": "stream",
          "name": "stdout",
          "text": [
            "1. Title:30 Most Popular Movies Right Now: What to Watch In Theaters …\n",
            "  Link:https://editorial.rottentomatoes.com/guide/popular-movies/\n",
            "  Description:3 days ago · Discover the top, most popular movies available now, along with what’s stoking early buzz and hype!\n",
            "\n",
            "2. Title:New Movies Out Now in Theaters (2025) - Rotten Tomatoes\n",
            "  Link:https://www.rottentomatoes.com/browse/movies_in_theaters/sort:newest\n",
            "  Description:Rotten Tomatoes, home of the Tomatometer, is the most trusted measurement of quality for Movies & TV. The definitive site for Reviews, Trailers, Showtimes, and Tickets.\n",
            "\n",
            "3. Title:7 New Movies Our Critics Are Talking About This Week\n",
            "  Link:https://www.nytimes.com/2025/02/21/movies/new-movie-releases.html\n",
            "  Description:2 days ago · A Prizewinning Movie of His Own: With his debut feature, “Armand,” Halfdan Ullmann Tøndel wants to step out of the shadow of his revered grandfather, Ingmar Bergman. ( Though the movie still ...\n",
            "\n",
            "4. Title:15 Best Movies in Theaters Right Now\n",
            "  Link:https://movieweb.com/best-movies-right-now-in-theaters/\n",
            "  Description:No description\n",
            "\n",
            "5. Title:New Movies Out Now & In Theaters 2025 - Fandango\n",
            "  Link:https://www.fandango.com/movies-in-theaters\n",
            "  Description:Discover new movies in 2025. Stay updated with Fandango's detailed listing of new movies and book your movie tickets today!\n",
            "\n"
          ]
        }
      ],
      "source": [
        "import requests\n",
        "from bs4 import BeautifulSoup\n",
        "\n",
        "def search(query):\n",
        "    headers = {\n",
        "        \"user-Agent\":\"Mozilla/5.0 (Windows NT 10.0; Win64; x64) AppleWebKit/537.36 (KHTML, like Gecko) Chrome/132.0.0.0 Safari/537.36\"\n",
        "    }\n",
        "\n",
        "    search_url =  f\"https://www.bing.com/search?q={query.replace(' ', ' +')}\"\n",
        "\n",
        "    response = requests.get(search_url, headers=headers)\n",
        "\n",
        "    if response.status_code != 200:\n",
        "        print(\"Error fetching search result\")\n",
        "        return\n",
        "\n",
        "    soup = BeautifulSoup(response.text, \"html.parser\")\n",
        "\n",
        "    results = soup.find_all(\"li\",class_=\"b_algo\",limit=5)\n",
        "\n",
        "    if not results:\n",
        "        print(\"No result found\")\n",
        "        return\n",
        "    for i,result in enumerate(results,start=1):\n",
        "        title = result.find(\"h2\").text if result.find(\"h2\") else \"No title\"\n",
        "        link = result.find(\"a\")[\"href\"] if result.find(\"a\") else \"No link\"\n",
        "        description = result.find(\"p\").text if result.find(\"p\") else \"No description\"\n",
        "        print(f\"{i}. Title:{title}\")\n",
        "        print(f\"  Link:{link}\")\n",
        "        print(f\"  Description:{description}\\n\")\n",
        "\n",
        "query = \"recent movies\"\n",
        "search(query)"
      ]
    }
  ]
}