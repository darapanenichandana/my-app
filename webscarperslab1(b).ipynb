{
  "nbformat": 4,
  "nbformat_minor": 0,
  "metadata": {
    "colab": {
      "provenance": [],
      "authorship_tag": "ABX9TyPKiPS3n+mvvime84XiUnCV",
      "include_colab_link": true
    },
    "kernelspec": {
      "name": "python3",
      "display_name": "Python 3"
    },
    "language_info": {
      "name": "python"
    }
  },
  "cells": [
    {
      "cell_type": "markdown",
      "metadata": {
        "id": "view-in-github",
        "colab_type": "text"
      },
      "source": [
        "<a href=\"https://colab.research.google.com/github/darapanenichandana/my-app/blob/main/webscarperslab1(b).ipynb\" target=\"_parent\"><img src=\"https://colab.research.google.com/assets/colab-badge.svg\" alt=\"Open In Colab\"/></a>"
      ]
    },
    {
      "cell_type": "code",
      "source": [
        "import requests\n",
        "from bs4 import BeautifulSoup\n",
        "import pandas as pd\n",
        "from tabulate import tabulate\n",
        "\n",
        "def search(query):\n",
        "    headers = {\n",
        "        \"User-Agent\": \"Mozilla/5.0 (Windows NT 10.0; Win64; x64) AppleWebKit/537.36 (KHTML, like Gecko) Chrome/132.0.0.0 Safari/537.36\"\n",
        "    }\n",
        "\n",
        "    search_url = f\"https://www.bing.com/search?q={query.replace(' ', '+')}\"\n",
        "    response = requests.get(search_url, headers=headers)\n",
        "\n",
        "    if response.status_code != 200:\n",
        "        print(\"Error fetching search results\")\n",
        "        return None\n",
        "\n",
        "    soup = BeautifulSoup(response.text, \"html.parser\")\n",
        "    results = soup.find_all(\"li\", class_=\"b_algo\", limit=8)\n",
        "\n",
        "    if not results:\n",
        "        print(\"No results found\")\n",
        "        return None\n",
        "\n",
        "    data = []\n",
        "\n",
        "    for result in results:\n",
        "        title_tag = result.find(\"h2\")\n",
        "        link_tag = result.find(\"a\")\n",
        "        desc_tag = result.find(\"p\")\n",
        "\n",
        "        title = title_tag.text.strip() if title_tag else \"No title\"\n",
        "        link = link_tag[\"href\"] if link_tag and link_tag.has_attr(\"href\") else \"No link\"\n",
        "        description = desc_tag.text.strip() if desc_tag else \"No description\"\n",
        "\n",
        "        data.append({\"Title\": title, \"Link\": link, \"Description\": description})\n",
        "\n",
        "\n",
        "    df = pd.DataFrame(data)\n",
        "\n",
        "    pd.set_option('display.max_colwidth', None)\n",
        "    pd.set_option('display.width', 1000)\n",
        "\n",
        "    return df\n",
        "\n",
        "\n",
        "query = \"latest movies\"\n",
        "df_results = search(query)\n",
        "\n",
        "\n",
        "if df_results is not None:\n",
        "    print(tabulate(df_results, headers=\"keys\", tablefmt=\"grid\", showindex=False))\n",
        "\n",
        "    df_results.to_csv(\"search_results.csv\", index=False)\n",
        "\n"
      ],
      "metadata": {
        "colab": {
          "base_uri": "https://localhost:8080/"
        },
        "id": "9P8fCNArE2J8",
        "outputId": "63380bec-e7bd-42b8-d9d0-f222c87c1c92"
      },
      "execution_count": 56,
      "outputs": [
        {
          "output_type": "stream",
          "name": "stdout",
          "text": [
            "+---------------------------------------------------------------+----------------------------------------------------------------------+-------------------------------------------------------------------------------------------------------------------------------------------------------------------------------------------------------------+\n",
            "| Title                                                         | Link                                                                 | Description                                                                                                                                                                                                 |\n",
            "+===============================================================+======================================================================+=============================================================================================================================================================================================================+\n",
            "| 30 Most Popular Movies Right Now: What to Watch In Theaters … | https://editorial.rottentomatoes.com/guide/popular-movies/           | 3 dagen geleden · 30 Most Popular Movies Right Now: What to Watch In Theaters and Streaming. Discover the top, most popular movies available now, along with what’s stoking …                               |\n",
            "+---------------------------------------------------------------+----------------------------------------------------------------------+-------------------------------------------------------------------------------------------------------------------------------------------------------------------------------------------------------------+\n",
            "| ALL 2025-2028 MOVIES (In release order) - IMDb                | https://www.imdb.com/list/ls029217360/                               | 28 feb. 2024 · A list of major movies released in 2025-2028, in release order! List your movie, TV & celebrity picks. 1. Horizon: An American Saga - Chapter 2. The continuation of one story of …          |\n",
            "+---------------------------------------------------------------+----------------------------------------------------------------------+-------------------------------------------------------------------------------------------------------------------------------------------------------------------------------------------------------------+\n",
            "| Best New Movies of 2025, Ranked by Tomatometer                | https://editorial.rottentomatoes.com/guide/best-new-movies/          | 3 dagen geleden · Best New Movies of 2025, Ranked by Tomatometer The latest: Bridget Jones: Mad About the Boy is Certified Fresh, and atop the franchise including Bridget Jones’s Diary (81%), The Edge... |\n",
            "+---------------------------------------------------------------+----------------------------------------------------------------------+-------------------------------------------------------------------------------------------------------------------------------------------------------------------------------------------------------------+\n",
            "| New Movies Out Now in Theaters (2025) - Rotten Tomatoes       | https://www.rottentomatoes.com/browse/movies_in_theaters/sort:newest | 7 dec. 2024 · Rotten Tomatoes, home of the Tomatometer, is the most trusted measurement of quality for Movies & TV. The definitive site for Reviews, Trailers, Showtimes, and Tickets                       |\n",
            "+---------------------------------------------------------------+----------------------------------------------------------------------+-------------------------------------------------------------------------------------------------------------------------------------------------------------------------------------------------------------+\n",
            "| 30 MOST POPULAR MOVIES RIGHT NOW - IMDb                       | https://www.imdb.com/list/ls535242299/                               | 6 dec. 2024 · Discover the top, most popular movies available now! Across theaters, streaming, and on-demand, these are the movies Rotten Tomatoes users are embracing at this very …                       |\n",
            "+---------------------------------------------------------------+----------------------------------------------------------------------+-------------------------------------------------------------------------------------------------------------------------------------------------------------------------------------------------------------+\n",
            "| TOP-30 films laatste 12 maanden - FilmTotaal                  | https://www.filmtotaal.nl/jaar-top-30                                | Duidelijk overzicht van alle films op televisie van Nederlandse en buitenlandse zenders. Met trailers, videos, recensies en fotos.                                                                          |\n",
            "+---------------------------------------------------------------+----------------------------------------------------------------------+-------------------------------------------------------------------------------------------------------------------------------------------------------------------------------------------------------------+\n",
            "| Top 100 Recente Films - FilmVandaag.nl                        | https://www.filmvandaag.nl/films/top-100?jaar=recent                 | 6 dagen geleden · Bekijk duidelijke overzichten van alle films en series op tv, in de bioscoop en op Netflix, met uitgebreide informatie, trailers, recensies, film- en serietips en meer!                  |\n",
            "+---------------------------------------------------------------+----------------------------------------------------------------------+-------------------------------------------------------------------------------------------------------------------------------------------------------------------------------------------------------------+\n",
            "| Nieuwe films - MovieMeter.nl                                  | https://www.moviemeter.nl/films/new                                  | Nieuwe films. Het volledige overzicht van films die op dit moment voor het eerst in de bioscoop draaien, of nieuw op de primaire streamingplatformen zijn verschenen. Ook titels die sinds kort …           |\n",
            "+---------------------------------------------------------------+----------------------------------------------------------------------+-------------------------------------------------------------------------------------------------------------------------------------------------------------------------------------------------------------+\n"
          ]
        }
      ]
    }
  ]
}